{
 "cells": [
  {
   "cell_type": "code",
   "execution_count": 20,
   "metadata": {},
   "outputs": [],
   "source": [
    "import pandas as pd"
   ]
  },
  {
   "cell_type": "markdown",
   "metadata": {},
   "source": [
    "Memuat Dataset"
   ]
  },
  {
   "cell_type": "code",
   "execution_count": 21,
   "metadata": {},
   "outputs": [],
   "source": [
    "df = pd.read_csv('layoffs_1.csv')"
   ]
  },
  {
   "cell_type": "code",
   "execution_count": 3,
   "metadata": {},
   "outputs": [],
   "source": [
    "# Diasumsikan `world_layoffs_df` adalah DataFrame yang berisi data dari `world_layoffs.layoffs`\n",
    "world_layoffs_df = pd.read_csv('layoffs_1.csv')"
   ]
  },
  {
   "cell_type": "markdown",
   "metadata": {},
   "source": [
    "# A. MEMERIKSA DAN MENGHAPUS DATA DUPLIKAT"
   ]
  },
  {
   "cell_type": "code",
   "execution_count": 4,
   "metadata": {},
   "outputs": [],
   "source": [
    "# 1. Membuat DataFrame sementara (setara dengan membuat tabel sementara di SQL)\n",
    "layoffs_staging = world_layoffs_df.copy()"
   ]
  },
  {
   "cell_type": "code",
   "execution_count": 5,
   "metadata": {},
   "outputs": [
    {
     "name": "stdout",
     "output_type": "stream",
     "text": [
      "Duplikat yang ditemukan:\n",
      "                company       location        industry  total_laid_off  \\\n",
      "118              Yahoo    SF Bay Area        Consumer          1600.0   \n",
      "625   Wildlife Studios      Sao Paulo        Consumer           300.0   \n",
      "816                Oda           Oslo            Food            70.0   \n",
      "817                Oda           Oslo            Food            70.0   \n",
      "818                Oda           Oslo            Food            70.0   \n",
      "1491             Cazoo         London  Transportation           750.0   \n",
      "1492             Cazoo         London  Transportation           750.0   \n",
      "1551          Terminus        Atlanta       Marketing             NaN   \n",
      "1552          Terminus        Atlanta       Marketing             NaN   \n",
      "1689            Casper  New York City          Retail             NaN   \n",
      "2254             Hibob       Tel Aviv              HR            70.0   \n",
      "2357             Yahoo    SF Bay Area        Consumer          1600.0   \n",
      "2358             Hibob       Tel Aviv              HR            70.0   \n",
      "2359            Casper  New York City          Retail             NaN   \n",
      "2360  Wildlife Studios      Sao Paulo        Consumer           300.0   \n",
      "\n",
      "      percentage_laid_off        date     stage         country  \\\n",
      "118                  0.20    2/9/2023  Acquired   United States   \n",
      "625                  0.20  11/28/2022   Unknown          Brazil   \n",
      "816                  0.18   11/1/2022   Unknown          Sweden   \n",
      "817                  0.18   11/1/2022   Unknown          Norway   \n",
      "818                  0.06   11/1/2022   Unknown          Norway   \n",
      "1491                 0.15    6/7/2022  Post-IPO  United Kingdom   \n",
      "1492                 0.15    6/7/2022  Post-IPO  United Kingdom   \n",
      "1551                  NaN   5/27/2022  Series C   United States   \n",
      "1552                  NaN   5/27/2022   Unknown   United States   \n",
      "1689                  NaN   9/14/2021  Post-IPO   United States   \n",
      "2254                 0.30   3/30/2020  Series A          Israel   \n",
      "2357                 0.20    2/9/2023  Acquired   United States   \n",
      "2358                 0.30   3/30/2020  Series A          Israel   \n",
      "2359                  NaN   9/14/2021  Post-IPO   United States   \n",
      "2360                 0.20  11/28/2022   Unknown          Brazil   \n",
      "\n",
      "      funds_raised_millions  \n",
      "118                     6.0  \n",
      "625                   260.0  \n",
      "816                   377.0  \n",
      "817                   477.0  \n",
      "818                   479.0  \n",
      "1491                 2000.0  \n",
      "1492                 2000.0  \n",
      "1551                  120.0  \n",
      "1552                  192.0  \n",
      "1689                  339.0  \n",
      "2254                   45.0  \n",
      "2357                    6.0  \n",
      "2358                   45.0  \n",
      "2359                  339.0  \n",
      "2360                  260.0  \n"
     ]
    }
   ],
   "source": [
    "# 2. Mengidentifikasi dan menghapus data duplikat\n",
    "\n",
    "# Memeriksa duplikat\n",
    "duplikat = layoffs_staging[layoffs_staging.duplicated(subset=['company', 'industry', 'total_laid_off', 'date'], keep=False)]\n",
    "print(\"Duplikat yang ditemukan:\\n\", duplikat)"
   ]
  },
  {
   "cell_type": "code",
   "execution_count": 6,
   "metadata": {},
   "outputs": [],
   "source": [
    "# Menghapus duplikat (menyimpan kejadian pertama)\n",
    "layoffs_staging = layoffs_staging.drop_duplicates(subset=['company', 'industry', 'total_laid_off', 'date'], keep='first')"
   ]
  },
  {
   "cell_type": "code",
   "execution_count": 7,
   "metadata": {},
   "outputs": [
    {
     "name": "stdout",
     "output_type": "stream",
     "text": [
      "Data setelah menghapus duplikat:\n",
      "             company        location        industry  total_laid_off  \\\n",
      "0         Atlassian          Sydney           Other           500.0   \n",
      "1          SiriusXM   New York City           Media           475.0   \n",
      "2            Alerzo          Ibadan          Retail           400.0   \n",
      "3            UpGrad          Mumbai       Education           120.0   \n",
      "4              Loft       Sao Paulo     Real Estate           340.0   \n",
      "...             ...             ...             ...             ...   \n",
      "2352   HopSkipDrive     Los Angeles  Transportation             8.0   \n",
      "2353    Panda Squad     SF Bay Area        Consumer             6.0   \n",
      "2354  Tamara Mellon     Los Angeles          Retail            20.0   \n",
      "2355       EasyPost  Salt Lake City       Logistics            75.0   \n",
      "2356      Blackbaud      Charleston           Other           500.0   \n",
      "\n",
      "      percentage_laid_off       date     stage        country  \\\n",
      "0                    0.05   3/6/2023  Post-IPO      Australia   \n",
      "1                    0.08   3/6/2023  Post-IPO  United States   \n",
      "2                     NaN   3/6/2023  Series B        Nigeria   \n",
      "3                     NaN   3/6/2023   Unknown          India   \n",
      "4                    0.15   3/3/2023   Unknown         Brazil   \n",
      "...                   ...        ...       ...            ...   \n",
      "2352                 0.10  3/13/2020   Unknown  United States   \n",
      "2353                 0.75  3/13/2020      Seed  United States   \n",
      "2354                 0.40  3/12/2020  Series C  United States   \n",
      "2355                  NaN  3/11/2020  Series A  United States   \n",
      "2356                 0.14        NaN  Post-IPO  United States   \n",
      "\n",
      "      funds_raised_millions  \n",
      "0                     210.0  \n",
      "1                     525.0  \n",
      "2                      16.0  \n",
      "3                     631.0  \n",
      "4                     788.0  \n",
      "...                     ...  \n",
      "2352                   45.0  \n",
      "2353                    1.0  \n",
      "2354                   90.0  \n",
      "2355                   12.0  \n",
      "2356                    NaN  \n",
      "\n",
      "[2353 rows x 9 columns]\n"
     ]
    }
   ],
   "source": [
    "# Memverifikasi penghapusan duplikat\n",
    "print(\"Data setelah menghapus duplikat:\\n\", layoffs_staging)"
   ]
  },
  {
   "cell_type": "markdown",
   "metadata": {},
   "source": [
    "# B. MENSTANDARKAN DATA\n"
   ]
  },
  {
   "cell_type": "code",
   "execution_count": 8,
   "metadata": {},
   "outputs": [
    {
     "name": "stdout",
     "output_type": "stream",
     "text": [
      "Industri unik:\n",
      " ['Other' 'Media' 'Retail' 'Education' 'Real Estate' 'Transportation'\n",
      " 'Marketing' nan 'Healthcare' 'Security' 'Food' 'Fitness' 'Consumer'\n",
      " 'Logistics' 'HR' 'Support' 'Travel' 'Crypto' 'Finance' 'Data' 'Sales'\n",
      " 'Infrastructure' 'Hardware' 'Product' 'Construction' 'Legal' 'Energy'\n",
      " 'Manufacturing' 'Recruiting' 'Aerospace' 'Crypto Currency' 'Fin-Tech'\n",
      " 'CryptoCurrency']\n"
     ]
    }
   ],
   "source": [
    "# Menangani nilai yang hilang dan tidak valid di kolom 'industry'\n",
    "\n",
    "# Mengidentifikasi nilai unik di kolom 'industry'\n",
    "industri_unik = layoffs_staging['industry'].unique()\n",
    "print(\"Industri unik:\\n\", industri_unik)"
   ]
  },
  {
   "cell_type": "code",
   "execution_count": 9,
   "metadata": {},
   "outputs": [
    {
     "name": "stdout",
     "output_type": "stream",
     "text": [
      "Industri yang hilang:\n",
      "                   company     location industry  total_laid_off  \\\n",
      "8                  Airbnb  SF Bay Area      NaN            30.0   \n",
      "330   Bally's Interactive   Providence      NaN             NaN   \n",
      "736                  Juul  SF Bay Area      NaN           400.0   \n",
      "1595              Carvana      Phoenix      NaN          2500.0   \n",
      "\n",
      "      percentage_laid_off        date     stage        country  \\\n",
      "8                     NaN    3/3/2023  Post-IPO  United States   \n",
      "330                  0.15   1/18/2023  Post-IPO  United States   \n",
      "736                  0.30  11/10/2022   Unknown  United States   \n",
      "1595                 0.12   5/10/2022  Post-IPO  United States   \n",
      "\n",
      "      funds_raised_millions  \n",
      "8                    6400.0  \n",
      "330                   946.0  \n",
      "736                  1500.0  \n",
      "1595                 1600.0  \n"
     ]
    }
   ],
   "source": [
    "# Menemukan baris dengan 'industry' NULL atau kosong\n",
    "industri_hilang = layoffs_staging[layoffs_staging['industry'].isnull() | (layoffs_staging['industry'] == '')]\n",
    "print(\"Industri yang hilang:\\n\", industri_hilang)"
   ]
  },
  {
   "cell_type": "code",
   "execution_count": 10,
   "metadata": {},
   "outputs": [
    {
     "name": "stderr",
     "output_type": "stream",
     "text": [
      "C:\\Users\\restu firmansyah\\AppData\\Local\\Temp\\ipykernel_11108\\3916517896.py:2: FutureWarning: A value is trying to be set on a copy of a DataFrame or Series through chained assignment using an inplace method.\n",
      "The behavior will change in pandas 3.0. This inplace method will never work because the intermediate object on which we are setting values always behaves as a copy.\n",
      "\n",
      "For example, when doing 'df[col].method(value, inplace=True)', try using 'df.method({col: value}, inplace=True)' or df[col] = df[col].method(value) instead, to perform the operation inplace on the original object.\n",
      "\n",
      "\n",
      "  layoffs_staging['industry'].replace('', pd.NA, inplace=True)\n"
     ]
    }
   ],
   "source": [
    "# Mengganti string kosong dengan NULL untuk manipulasi yang lebih mudah\n",
    "layoffs_staging['industry'].replace('', pd.NA, inplace=True)"
   ]
  },
  {
   "cell_type": "code",
   "execution_count": 11,
   "metadata": {},
   "outputs": [
    {
     "name": "stderr",
     "output_type": "stream",
     "text": [
      "C:\\Users\\restu firmansyah\\AppData\\Local\\Temp\\ipykernel_11108\\3914976511.py:2: FutureWarning: Downcasting object dtype arrays on .fillna, .ffill, .bfill is deprecated and will change in a future version. Call result.infer_objects(copy=False) instead. To opt-in to the future behavior, set `pd.set_option('future.no_silent_downcasting', True)`\n",
      "  layoffs_staging['industry'] = layoffs_staging.groupby('company')['industry'].transform(lambda x: x.ffill().bfill())\n"
     ]
    }
   ],
   "source": [
    "# Mengisi nilai 'industry' yang hilang berdasarkan nama perusahaan\n",
    "layoffs_staging['industry'] = layoffs_staging.groupby('company')['industry'].transform(lambda x: x.ffill().bfill())"
   ]
  },
  {
   "cell_type": "code",
   "execution_count": 12,
   "metadata": {},
   "outputs": [
    {
     "name": "stdout",
     "output_type": "stream",
     "text": [
      "Baris dengan 'industry' yang hilang setelah pengisian:\n",
      "                  company    location industry  total_laid_off  \\\n",
      "330  Bally's Interactive  Providence      NaN             NaN   \n",
      "\n",
      "     percentage_laid_off       date     stage        country  \\\n",
      "330                 0.15  1/18/2023  Post-IPO  United States   \n",
      "\n",
      "     funds_raised_millions  \n",
      "330                  946.0  \n"
     ]
    }
   ],
   "source": [
    "# Memverifikasi jika masih ada nilai 'industry' yang hilang\n",
    "print(\"Baris dengan 'industry' yang hilang setelah pengisian:\\n\", layoffs_staging[layoffs_staging['industry'].isnull()])"
   ]
  },
  {
   "cell_type": "code",
   "execution_count": 13,
   "metadata": {},
   "outputs": [
    {
     "name": "stderr",
     "output_type": "stream",
     "text": [
      "C:\\Users\\restu firmansyah\\AppData\\Local\\Temp\\ipykernel_11108\\3854007030.py:2: FutureWarning: A value is trying to be set on a copy of a DataFrame or Series through chained assignment using an inplace method.\n",
      "The behavior will change in pandas 3.0. This inplace method will never work because the intermediate object on which we are setting values always behaves as a copy.\n",
      "\n",
      "For example, when doing 'df[col].method(value, inplace=True)', try using 'df.method({col: value}, inplace=True)' or df[col] = df[col].method(value) instead, to perform the operation inplace on the original object.\n",
      "\n",
      "\n",
      "  layoffs_staging['industry'].replace({'Crypto Currency': 'Crypto', 'CryptoCurrency': 'Crypto'}, inplace=True)\n"
     ]
    }
   ],
   "source": [
    "# Menstandarkan nilai di kolom 'industry'\n",
    "layoffs_staging['industry'].replace({'Crypto Currency': 'Crypto', 'CryptoCurrency': 'Crypto'}, inplace=True)\n"
   ]
  },
  {
   "cell_type": "code",
   "execution_count": 14,
   "metadata": {},
   "outputs": [
    {
     "name": "stdout",
     "output_type": "stream",
     "text": [
      "Industri unik setelah penstandaran:\n",
      " ['Other' 'Media' 'Retail' 'Education' 'Real Estate' 'Transportation'\n",
      " 'Marketing' 'Travel' 'Healthcare' 'Security' 'Food' 'Fitness' 'Consumer'\n",
      " 'Logistics' 'HR' 'Support' 'Crypto' 'Finance' 'Data' 'Sales'\n",
      " 'Infrastructure' 'Hardware' 'Product' 'Construction' 'Legal' 'Energy' nan\n",
      " 'Manufacturing' 'Recruiting' 'Aerospace' 'Fin-Tech']\n"
     ]
    }
   ],
   "source": [
    "\n",
    "# Memverifikasi nilai unik di 'industry' setelah penstandaran\n",
    "print(\"Industri unik setelah penstandaran:\\n\", layoffs_staging['industry'].unique())"
   ]
  },
  {
   "cell_type": "code",
   "execution_count": 15,
   "metadata": {},
   "outputs": [],
   "source": [
    "\n",
    "# Menstandarkan nilai di kolom 'country'\n",
    "# Menghapus titik di akhir nama 'country'\n",
    "layoffs_staging['country'] = layoffs_staging['country'].str.rstrip('.')"
   ]
  },
  {
   "cell_type": "code",
   "execution_count": 16,
   "metadata": {},
   "outputs": [
    {
     "name": "stdout",
     "output_type": "stream",
     "text": [
      "Negara unik setelah penstandaran:\n",
      " ['Australia' 'United States' 'Nigeria' 'India' 'Brazil' 'France' 'Germany'\n",
      " 'Israel' 'Sweden' 'United Kingdom' 'Japan' 'South Korea' 'China' 'Italy'\n",
      " 'Singapore' 'Indonesia' 'Estonia' 'Canada' 'Ireland' 'Finland'\n",
      " 'Netherlands' 'Spain' 'Portugal' 'Chile' 'Colombia' 'Argentina'\n",
      " 'Seychelles' 'Austria' 'Mexico' 'Switzerland' 'Egypt' 'Kenya'\n",
      " 'Luxembourg' 'Greece' 'Poland' 'Norway' 'Belgium' 'Denmark' 'Hong Kong'\n",
      " 'New Zealand' 'Malaysia' 'Hungary' 'Vietnam' 'Thailand' 'Lithuania'\n",
      " 'Ghana' 'Senegal' 'Pakistan' 'United Arab Emirates' 'Peru' 'Bahrain'\n",
      " 'Romania' 'Turkey' 'Russia' 'Uruguay' 'Bulgaria' 'South Africa'\n",
      " 'Czech Republic' 'Myanmar']\n"
     ]
    }
   ],
   "source": [
    "# Memverifikasi nilai unik di 'country' setelah penstandaran\n",
    "print(\"Negara unik setelah penstandaran:\\n\", layoffs_staging['country'].unique())"
   ]
  },
  {
   "cell_type": "markdown",
   "metadata": {},
   "source": [
    "# C. MEMERIKSA NILAI NULL"
   ]
  },
  {
   "cell_type": "code",
   "execution_count": 17,
   "metadata": {},
   "outputs": [
    {
     "name": "stdout",
     "output_type": "stream",
     "text": [
      "Baris dengan 'total_laid_off' NULL:\n",
      "             company       location    industry  total_laid_off  \\\n",
      "9          Accolade        Seattle  Healthcare             NaN   \n",
      "10           Indigo         Boston       Other             NaN   \n",
      "16         Flipkart      Bengaluru      Retail             NaN   \n",
      "17          Kandela    Los Angeles    Consumer             NaN   \n",
      "18    Truckstop.com          Boise   Logistics             NaN   \n",
      "...             ...            ...         ...             ...   \n",
      "2340         Vacasa       Portland      Travel             NaN   \n",
      "2345      Anyvision       Tel Aviv    Security             NaN   \n",
      "2346          Popin  New York City     Fitness             NaN   \n",
      "2347  Tuft & Needle        Phoenix      Retail             NaN   \n",
      "2351        Service    Los Angeles      Travel             NaN   \n",
      "\n",
      "      percentage_laid_off       date     stage        country  \\\n",
      "9                     NaN   3/3/2023  Post-IPO  United States   \n",
      "10                    NaN   3/3/2023  Series F  United States   \n",
      "16                    NaN   3/2/2023  Acquired          India   \n",
      "17                    1.0   3/2/2023  Acquired  United States   \n",
      "18                    NaN   3/2/2023  Acquired  United States   \n",
      "...                   ...        ...       ...            ...   \n",
      "2340                  NaN  3/20/2020  Series C  United States   \n",
      "2345                  NaN  3/19/2020  Series A         Israel   \n",
      "2346                  1.0  3/19/2020   Unknown  United States   \n",
      "2347                  NaN  3/19/2020  Acquired  United States   \n",
      "2351                  1.0  3/16/2020      Seed  United States   \n",
      "\n",
      "      funds_raised_millions  \n",
      "9                     458.0  \n",
      "10                   1200.0  \n",
      "16                  12900.0  \n",
      "17                      NaN  \n",
      "18                      NaN  \n",
      "...                     ...  \n",
      "2340                  526.0  \n",
      "2345                   74.0  \n",
      "2346                   13.0  \n",
      "2347                    0.0  \n",
      "2351                    5.1  \n",
      "\n",
      "[738 rows x 9 columns]\n"
     ]
    }
   ],
   "source": [
    "# Memeriksa nilai NULL di 'total_laid_off'\n",
    "total_laid_off_null = layoffs_staging[layoffs_staging['total_laid_off'].isnull()]\n",
    "print(\"Baris dengan 'total_laid_off' NULL:\\n\", total_laid_off_null)\n"
   ]
  },
  {
   "cell_type": "code",
   "execution_count": 18,
   "metadata": {},
   "outputs": [
    {
     "name": "stdout",
     "output_type": "stream",
     "text": [
      "Baris dengan 'total_laid_off' dan 'percentage_laid_off' NULL:\n",
      "             company     location        industry  total_laid_off  \\\n",
      "9          Accolade      Seattle      Healthcare             NaN   \n",
      "10           Indigo       Boston           Other             NaN   \n",
      "16         Flipkart    Bengaluru          Retail             NaN   \n",
      "18    Truckstop.com        Boise       Logistics             NaN   \n",
      "57    Arch Oncology    St. Louis      Healthcare             NaN   \n",
      "...             ...          ...             ...             ...   \n",
      "2323       SpotHero      Chicago  Transportation             NaN   \n",
      "2334          Zwift  Los Angeles         Fitness             NaN   \n",
      "2340         Vacasa     Portland          Travel             NaN   \n",
      "2345      Anyvision     Tel Aviv        Security             NaN   \n",
      "2347  Tuft & Needle      Phoenix          Retail             NaN   \n",
      "\n",
      "      percentage_laid_off       date     stage        country  \\\n",
      "9                     NaN   3/3/2023  Post-IPO  United States   \n",
      "10                    NaN   3/3/2023  Series F  United States   \n",
      "16                    NaN   3/2/2023  Acquired          India   \n",
      "18                    NaN   3/2/2023  Acquired  United States   \n",
      "57                    NaN  2/22/2023  Series C  United States   \n",
      "...                   ...        ...       ...            ...   \n",
      "2323                  NaN  3/24/2020  Series D  United States   \n",
      "2334                  NaN  3/23/2020  Series B  United States   \n",
      "2340                  NaN  3/20/2020  Series C  United States   \n",
      "2345                  NaN  3/19/2020  Series A         Israel   \n",
      "2347                  NaN  3/19/2020  Acquired  United States   \n",
      "\n",
      "      funds_raised_millions  \n",
      "9                     458.0  \n",
      "10                   1200.0  \n",
      "16                  12900.0  \n",
      "18                      NaN  \n",
      "57                    155.0  \n",
      "...                     ...  \n",
      "2323                  117.0  \n",
      "2334                  164.0  \n",
      "2340                  526.0  \n",
      "2345                   74.0  \n",
      "2347                    0.0  \n",
      "\n",
      "[360 rows x 9 columns]\n"
     ]
    }
   ],
   "source": [
    "# Memeriksa baris di mana 'total_laid_off' dan 'percentage_laid_off' keduanya NULL\n",
    "total_dan_persentase_null = layoffs_staging[layoffs_staging['total_laid_off'].isnull() & layoffs_staging['percentage_laid_off'].isnull()]\n",
    "print(\"Baris dengan 'total_laid_off' dan 'percentage_laid_off' NULL:\\n\", total_dan_persentase_null)"
   ]
  },
  {
   "cell_type": "code",
   "execution_count": 22,
   "metadata": {},
   "outputs": [],
   "source": [
    "# Simpan DataFrame df ke file bernama 'data_bersih.csv'\n",
    "df.to_csv('DataCleaning.csv', index=False)\n"
   ]
  }
 ],
 "metadata": {
  "kernelspec": {
   "display_name": "Python 3",
   "language": "python",
   "name": "python3"
  },
  "language_info": {
   "codemirror_mode": {
    "name": "ipython",
    "version": 3
   },
   "file_extension": ".py",
   "mimetype": "text/x-python",
   "name": "python",
   "nbconvert_exporter": "python",
   "pygments_lexer": "ipython3",
   "version": "3.10.8"
  }
 },
 "nbformat": 4,
 "nbformat_minor": 2
}
